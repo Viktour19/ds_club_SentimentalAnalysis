{
 "cells": [
  {
   "cell_type": "code",
   "execution_count": 2,
   "metadata": {
    "collapsed": false
   },
   "outputs": [
    {
     "name": "stdout",
     "output_type": "stream",
     "text": [
      "\"To engage in an intelligent debate with you is like debating to a retarded person.  It's useless.  It looks like you're bent on disregarding the efforts of the government.\"\n",
      "Target: 1, prediction: 1\n"
     ]
    },
    {
     "data": {
      "text/plain": [
       "['model.pkl', 'model.pkl_01.npy', 'model.pkl_02.npy', 'model.pkl_03.npy']"
      ]
     },
     "execution_count": 2,
     "metadata": {},
     "output_type": "execute_result"
    }
   ],
   "source": [
    "# -*- coding: utf-8 -*-\n",
    "\"\"\"\n",
    "Created on Fri Sep 30 08:07:57 2016\n",
    "\n",
    "@author: amuhebwa\n",
    "\"\"\"\n",
    "from sqlalchemy import create_engine\n",
    "import pandas as pd\n",
    "import numpy as np\n",
    "from sklearn.feature_extraction.text import CountVectorizer\n",
    "from sklearn.svm import LinearSVC\n",
    "from sklearn.metrics import accuracy_score\n",
    "from sklearn.externals import joblib\n",
    "\n",
    "USER = 'viktour19'\n",
    "PASS = 'datascience01'\n",
    "DB= 'datasciencecludb'\n",
    "HOST= '85.10.205.173'\n",
    "PORT = '3306'\n",
    "\n",
    "URL = 'mysql://' + USER +':' + PASS +'@' + HOST + ':' + PORT +'/' + DB\n",
    "\n",
    "engine = create_engine(URL)\n",
    "\n",
    "conn = engine.connect()\n",
    "\n",
    "train_data = pd.read_csv('insults/train.csv')\n",
    "train_data = train_data.drop('Date', axis=1)\n",
    "test_data = pd.read_csv('insults/test_with_solutions.csv')\n",
    "test_data = test_data[['Insult','Comment']]\n",
    "y_train = np.array(train_data.Insult)\n",
    "comments_train = np.array(train_data.Comment)\n",
    "\n",
    "assert comments_train.shape[0] == y_train.shape[0]\n",
    "\n",
    "cv = CountVectorizer()\n",
    "cv.fit(comments_train)\n",
    "\n",
    "X_train = cv.transform(comments_train).tocsr()\n",
    "\n",
    "svm = LinearSVC()\n",
    "svm.fit(X_train, y_train)\n",
    "\n",
    "comments_test = np.array(test_data.Comment)\n",
    "X_test = cv.transform(comments_test)\n",
    "y_test = np.array(test_data.Insult)\n",
    "\n",
    "score = svm.score(X_test, y_test)\n",
    "print(comments_test[8])\n",
    "predicted = svm.predict(X_test.tocsr()[8])[0];\n",
    "print(\"Target: %d, prediction: %d\" % (y_test[8], predicted))\n",
    "\n",
    "joblib.dump(svm, 'model.pkl')\n",
    "\n"
   ]
  },
  {
   "cell_type": "code",
   "execution_count": 5,
   "metadata": {
    "collapsed": false
   },
   "outputs": [
    {
     "data": {
      "text/plain": [
       "<sqlalchemy.engine.base.Connection at 0x7f0b72fd0fd0>"
      ]
     },
     "execution_count": 5,
     "metadata": {},
     "output_type": "execute_result"
    }
   ],
   "source": []
  }
 ],
 "metadata": {
  "kernelspec": {
   "display_name": "Python [Root]",
   "language": "python",
   "name": "Python [Root]"
  },
  "language_info": {
   "codemirror_mode": {
    "name": "ipython",
    "version": 2
   },
   "file_extension": ".py",
   "mimetype": "text/x-python",
   "name": "python",
   "nbconvert_exporter": "python",
   "pygments_lexer": "ipython2",
   "version": "2.7.12"
  }
 },
 "nbformat": 4,
 "nbformat_minor": 0
}
